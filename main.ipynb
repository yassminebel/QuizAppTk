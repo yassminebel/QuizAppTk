{
 "cells": [
  {
   "cell_type": "code",
   "execution_count": 1,
   "id": "65cf6fb7",
   "metadata": {
    "scrolled": true
   },
   "outputs": [
    {
     "ename": "ModuleNotFoundError",
     "evalue": "No module named 'quiz_data'",
     "output_type": "error",
     "traceback": [
      "\u001b[1;31m---------------------------------------------------------------------------\u001b[0m",
      "\u001b[1;31mModuleNotFoundError\u001b[0m                       Traceback (most recent call last)",
      "Cell \u001b[1;32mIn [1], line 4\u001b[0m\n\u001b[0;32m      2\u001b[0m \u001b[38;5;28;01mfrom\u001b[39;00m \u001b[38;5;21;01mtkinter\u001b[39;00m \u001b[38;5;28;01mimport\u001b[39;00m messagebox, ttk\n\u001b[0;32m      3\u001b[0m \u001b[38;5;28;01mfrom\u001b[39;00m \u001b[38;5;21;01mttkbootstrap\u001b[39;00m \u001b[38;5;28;01mimport\u001b[39;00m Style\n\u001b[1;32m----> 4\u001b[0m \u001b[38;5;28;01mfrom\u001b[39;00m \u001b[38;5;21;01mquiz_data\u001b[39;00m \u001b[38;5;28;01mimport\u001b[39;00m quiz_data\n\u001b[0;32m      6\u001b[0m \u001b[38;5;66;03m# Function to display the current question and choices\u001b[39;00m\n\u001b[0;32m      7\u001b[0m \u001b[38;5;28;01mdef\u001b[39;00m \u001b[38;5;21mshow_question\u001b[39m():\n\u001b[0;32m      8\u001b[0m     \u001b[38;5;66;03m# Get the current question from the quiz_data list\u001b[39;00m\n",
      "\u001b[1;31mModuleNotFoundError\u001b[0m: No module named 'quiz_data'"
     ]
    }
   ],
   "source": [
    "import tkinter as tk\n",
    "from tkinter import messagebox, ttk\n",
    "from ttkbootstrap import Style\n",
    "from quiz_data import quiz_data\n",
    "\n",
    "# Function to display the current question and choices\n",
    "def show_question():\n",
    "    # Get the current question from the quiz_data list\n",
    "    question = quiz_data[current_question]\n",
    "    qs_label.config(text=question[\"question\"])\n",
    "\n",
    "    # Display the choices on the buttons\n",
    "    choices = question[\"choices\"]\n",
    "    for i in range(4):\n",
    "        choice_btns[i].config(text=choices[i], state=\"normal\") # Reset button state\n",
    "\n",
    "    # Clear the feedback label and disable the next button\n",
    "    feedback_label.config(text=\"\")\n",
    "    next_btn.config(state=\"disabled\")\n",
    "\n",
    "# Function to check the selected answer and provide feedback\n",
    "def check_answer(choice):\n",
    "    # Get the current question from the quiz_data list\n",
    "    question = quiz_data[current_question]\n",
    "    selected_choice = choice_btns[choice].cget(\"text\")\n",
    "\n",
    "    # Check if the selected choice matches the correct answer\n",
    "    if selected_choice == question[\"answer\"]:\n",
    "        # Update the score and display it\n",
    "        global score\n",
    "        score += 1\n",
    "        score_label.config(text=\"Score: {}/{}\".format(score, len(quiz_data)))\n",
    "        feedback_label.config(text=\"Correct!\", foreground=\"green\")\n",
    "    else:\n",
    "        feedback_label.config(text=\"Incorrect!\", foreground=\"red\")\n",
    "\n",
    "    # Disable all choice buttons and enable the next button\n",
    "    for button in choice_btns:\n",
    "        button.config(state=\"disabled\")\n",
    "    next_btn.config(state=\"normal\")\n",
    "\n",
    "# Function to move to the next question\n",
    "def next_question():\n",
    "    global current_question\n",
    "    current_question +=1\n",
    "\n",
    "    if current_question < len(quiz_data):\n",
    "        # If there are more questions, show the next question\n",
    "        show_question()\n",
    "    else:\n",
    "        # If all questions have been answered, display the final score and end the quiz\n",
    "        messagebox.showinfo(\"Quiz Completed\",\n",
    "                            \"Quiz Completed! Final score: {}/{}\".format(score, len(quiz_data)))\n",
    "        root.destroy()\n",
    "\n",
    "# Create the main window\n",
    "root = tk.Tk()\n",
    "root.title(\"Quiz App\")\n",
    "root.geometry(\"600x500\")\n",
    "style = Style(theme=\"flatly\")\n",
    "\n",
    "# Configure the font size for the question and choice buttons\n",
    "style.configure(\"TLabel\", font=(\"Helvetica\", 20))\n",
    "style.configure(\"TButton\", font=(\"Helvetica\", 16))\n",
    "\n",
    "# Create the question label\n",
    "qs_label = ttk.Label(\n",
    "    root,\n",
    "    anchor=\"center\",\n",
    "    wraplength=500,\n",
    "    padding=10\n",
    ")\n",
    "qs_label.pack(pady=10)\n",
    "\n",
    "# Create the choice buttons\n",
    "choice_btns = []\n",
    "for i in range(4):\n",
    "    button = ttk.Button(\n",
    "        root,\n",
    "        command=lambda i=i: check_answer(i)\n",
    "    )\n",
    "    button.pack(pady=5)\n",
    "    choice_btns.append(button)\n",
    "\n",
    "# Create the feedback label\n",
    "feedback_label = ttk.Label(\n",
    "    root,\n",
    "    anchor=\"center\",\n",
    "    padding=10\n",
    ")\n",
    "feedback_label.pack(pady=10)\n",
    "\n",
    "# Initialize the score\n",
    "score = 0\n",
    "\n",
    "# Create the score label\n",
    "score_label = ttk.Label(\n",
    "    root,\n",
    "    text=\"Score: 0/{}\".format(len(quiz_data)),\n",
    "    anchor=\"center\",\n",
    "    padding=10\n",
    ")\n",
    "score_label.pack(pady=10)\n",
    "\n",
    "# Create the next button\n",
    "next_btn = ttk.Button(\n",
    "    root,\n",
    "    text=\"Next\",\n",
    "    command=next_question,\n",
    "    state=\"disabled\"\n",
    ")\n",
    "next_btn.pack(pady=10)\n",
    "\n",
    "# Initialize the current question index\n",
    "current_question = 0\n",
    "\n",
    "# Show the first question\n",
    "show_question()\n",
    "\n",
    "# Start the main event loop\n",
    "root.mainloop()"
   ]
  },
  {
   "cell_type": "code",
   "execution_count": 6,
   "id": "132cd23d",
   "metadata": {},
   "outputs": [
    {
     "ename": "SyntaxError",
     "evalue": "invalid syntax (1982264295.py, line 1)",
     "output_type": "error",
     "traceback": [
      "\u001b[1;36m  Cell \u001b[1;32mIn [6], line 1\u001b[1;36m\u001b[0m\n\u001b[1;33m    python -m pip3 install ttkbootstrap\u001b[0m\n\u001b[1;37m              ^\u001b[0m\n\u001b[1;31mSyntaxError\u001b[0m\u001b[1;31m:\u001b[0m invalid syntax\n"
     ]
    }
   ],
   "source": [
    "python -m pip3 install ttkbootstrap\n"
   ]
  },
  {
   "cell_type": "code",
   "execution_count": 13,
   "id": "497ac5f2",
   "metadata": {},
   "outputs": [
    {
     "ename": "SyntaxError",
     "evalue": "invalid syntax (3944465998.py, line 1)",
     "output_type": "error",
     "traceback": [
      "\u001b[1;36m  Cell \u001b[1;32mIn[13], line 1\u001b[1;36m\u001b[0m\n\u001b[1;33m    conda activate data_env\u001b[0m\n\u001b[1;37m          ^\u001b[0m\n\u001b[1;31mSyntaxError\u001b[0m\u001b[1;31m:\u001b[0m invalid syntax\n"
     ]
    }
   ],
   "source": [
    "conda activate data_env\n",
    "pip install ttkbootstrap"
   ]
  },
  {
   "cell_type": "code",
   "execution_count": 9,
   "id": "dd507929",
   "metadata": {},
   "outputs": [
    {
     "name": "stdout",
     "output_type": "stream",
     "text": [
      "Collecting package metadata (current_repodata.json): ...working... done\n",
      "Solving environment: ...working... unsuccessful initial attempt using frozen solve. Retrying with flexible solve.\n",
      "Collecting package metadata (repodata.json): ...working... done\n",
      "Solving environment: ...working... unsuccessful initial attempt using frozen solve. Retrying with flexible solve.\n",
      "\n",
      "Note: you may need to restart the kernel to use updated packages.\n"
     ]
    },
    {
     "name": "stderr",
     "output_type": "stream",
     "text": [
      "DEBUG:urllib3.connectionpool:Starting new HTTPS connection (1): repo.anaconda.com:443\n",
      "DEBUG:urllib3.connectionpool:Starting new HTTPS connection (1): repo.anaconda.com:443\n",
      "DEBUG:urllib3.connectionpool:Starting new HTTPS connection (1): repo.anaconda.com:443\n",
      "DEBUG:urllib3.connectionpool:Starting new HTTPS connection (1): repo.anaconda.com:443\n",
      "DEBUG:urllib3.connectionpool:Starting new HTTPS connection (1): repo.anaconda.com:443\n",
      "DEBUG:urllib3.connectionpool:Starting new HTTPS connection (1): repo.anaconda.com:443\n",
      "DEBUG:urllib3.connectionpool:https://repo.anaconda.com:443 \"GET /pkgs/main/noarch/current_repodata.json HTTP/1.1\" 304 0\n",
      "DEBUG:urllib3.connectionpool:https://repo.anaconda.com:443 \"GET /pkgs/msys2/win-64/current_repodata.json HTTP/1.1\" 304 0\n",
      "DEBUG:urllib3.connectionpool:https://repo.anaconda.com:443 \"GET /pkgs/main/win-64/current_repodata.json HTTP/1.1\" 304 0\n",
      "DEBUG:urllib3.connectionpool:https://repo.anaconda.com:443 \"GET /pkgs/msys2/noarch/current_repodata.json HTTP/1.1\" 304 0\n",
      "DEBUG:urllib3.connectionpool:https://repo.anaconda.com:443 \"GET /pkgs/r/noarch/current_repodata.json HTTP/1.1\" 304 0\n",
      "DEBUG:urllib3.connectionpool:https://repo.anaconda.com:443 \"GET /pkgs/r/win-64/current_repodata.json HTTP/1.1\" 304 0\n",
      "DEBUG:urllib3.connectionpool:Starting new HTTPS connection (1): repo.anaconda.com:443\n",
      "DEBUG:urllib3.connectionpool:Starting new HTTPS connection (1): repo.anaconda.com:443\n",
      "DEBUG:urllib3.connectionpool:Starting new HTTPS connection (1): repo.anaconda.com:443\n",
      "DEBUG:urllib3.connectionpool:Starting new HTTPS connection (1): repo.anaconda.com:443\n",
      "DEBUG:urllib3.connectionpool:Starting new HTTPS connection (1): repo.anaconda.com:443\n",
      "DEBUG:urllib3.connectionpool:Starting new HTTPS connection (1): repo.anaconda.com:443\n",
      "DEBUG:urllib3.connectionpool:https://repo.anaconda.com:443 \"GET /pkgs/main/win-64/repodata.json HTTP/1.1\" 200 None\n",
      "DEBUG:urllib3.connectionpool:https://repo.anaconda.com:443 \"GET /pkgs/r/noarch/repodata.json HTTP/1.1\" 200 None\n",
      "DEBUG:urllib3.connectionpool:https://repo.anaconda.com:443 \"GET /pkgs/msys2/noarch/repodata.json HTTP/1.1\" 304 0\n",
      "DEBUG:urllib3.connectionpool:https://repo.anaconda.com:443 \"GET /pkgs/r/win-64/repodata.json HTTP/1.1\" 304 0\n",
      "DEBUG:urllib3.connectionpool:https://repo.anaconda.com:443 \"GET /pkgs/msys2/win-64/repodata.json HTTP/1.1\" 304 0\n",
      "DEBUG:urllib3.connectionpool:https://repo.anaconda.com:443 \"GET /pkgs/main/noarch/repodata.json HTTP/1.1\" 200 None\n",
      "\n",
      "PackagesNotFoundError: The following packages are not available from current channels:\n",
      "\n",
      "  - ttkbootstrap\n",
      "\n",
      "Current channels:\n",
      "\n",
      "  - https://repo.anaconda.com/pkgs/main/win-64\n",
      "  - https://repo.anaconda.com/pkgs/main/noarch\n",
      "  - https://repo.anaconda.com/pkgs/r/win-64\n",
      "  - https://repo.anaconda.com/pkgs/r/noarch\n",
      "  - https://repo.anaconda.com/pkgs/msys2/win-64\n",
      "  - https://repo.anaconda.com/pkgs/msys2/noarch\n",
      "\n",
      "To search for alternate channels that may provide the conda package you're\n",
      "looking for, navigate to\n",
      "\n",
      "    https://anaconda.org\n",
      "\n",
      "and use the search bar at the top of the page.\n",
      "\n",
      "\n"
     ]
    }
   ],
   "source": [
    "conda install ttkbootstrap"
   ]
  }
 ],
 "metadata": {
  "kernelspec": {
   "display_name": "Python 3 (ipykernel)",
   "language": "python",
   "name": "python3"
  },
  "language_info": {
   "codemirror_mode": {
    "name": "ipython",
    "version": 3
   },
   "file_extension": ".py",
   "mimetype": "text/x-python",
   "name": "python",
   "nbconvert_exporter": "python",
   "pygments_lexer": "ipython3",
   "version": "3.10.7"
  }
 },
 "nbformat": 4,
 "nbformat_minor": 5
}
