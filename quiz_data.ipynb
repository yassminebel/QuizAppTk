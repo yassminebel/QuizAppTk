{
 "cells": [
  {
   "cell_type": "code",
   "execution_count": 1,
   "id": "f506217e",
   "metadata": {},
   "outputs": [],
   "source": [
    "quiz_data = [\n",
    "    {\n",
    "        \"question\": \"Quelle équipe a remporté la première édition de la Coupe du monde?\",\n",
    "        \"choices\": [\"Argentine\", \"Uruguay\", \"Brésil\", \"Portugal\"],\n",
    "        \"answer\": \"Uruguay\"\n",
    "    },\n",
    "    {\n",
    "        \"question\": \"En quelle année a eu lieu la découverte de l'Amérique ?\",\n",
    "        \"choices\": [\"1342\", \"1478\", \"1492\", \"1398\"],\n",
    "        \"answer\": \"1492\"\n",
    "    },\n",
    "    {\n",
    "        \"question\": \"Où la première bombe atomique a-t-elle été utilisée ?\",\n",
    "        \"choices\": [\"Russie\", \"Japon\", \"Allemagne\", \"Etats-Unis\"],\n",
    "        \"answer\": \"Japon\"\n",
    "    },\n",
    "    {\n",
    "        \"question\": \"Quel est l'élément chimique le plus abondant dans l'atmosphère terrestre?\",\n",
    "        \"choices\": [\"Oxygène\", \"Azote\", \"Dioxyde de carbone\", \"Hélium\"],\n",
    "        \"answer\": \"Azote\"\n",
    "    },\n",
    "    {\n",
    "        \"question\": \"Quelle est la plus haute montagne du monde ?\",\n",
    "        \"choices\": [\"Mont Kilimandjaro\", \"Mont McKinley\", \"Mont Blanc\", \"Everest\"],\n",
    "        \"answer\": \"Everest\"\n",
    "    },\n",
    "    {\n",
    "        \"question\": \"Quel est le plus grand océan du monde ?\",\n",
    "        \"choices\": [\"L'océan Atlantique\", \"L'océan Indien\", \"L'océan Pacifique\", \"L'océan Arctique\"],\n",
    "        \"answer\": \"L'océan Pacifique\"\n",
    "    },\n",
    "    {\n",
    "        \"question\": \"Quelle est la capitale de l'Inde ?\",\n",
    "        \"choices\": [\"New Delhi\", \"Mumbai\", \"Kolkata\", \"Chennai\"],\n",
    "        \"answer\": \"New Delhi\"\n",
    "    },\n",
    "]\n"
   ]
  },
  {
   "cell_type": "code",
   "execution_count": null,
   "id": "bfb1433e",
   "metadata": {},
   "outputs": [],
   "source": []
  }
 ],
 "metadata": {
  "kernelspec": {
   "display_name": "Python 3 (ipykernel)",
   "language": "python",
   "name": "python3"
  },
  "language_info": {
   "codemirror_mode": {
    "name": "ipython",
    "version": 3
   },
   "file_extension": ".py",
   "mimetype": "text/x-python",
   "name": "python",
   "nbconvert_exporter": "python",
   "pygments_lexer": "ipython3",
   "version": "3.10.7"
  }
 },
 "nbformat": 4,
 "nbformat_minor": 5
}
